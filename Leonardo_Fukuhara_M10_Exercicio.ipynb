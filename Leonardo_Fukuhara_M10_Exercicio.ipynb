{
  "nbformat": 4,
  "nbformat_minor": 0,
  "metadata": {
    "colab": {
      "provenance": []
    },
    "kernelspec": {
      "name": "python3",
      "display_name": "Python 3"
    }
  },
  "cells": [
    {
      "cell_type": "markdown",
      "metadata": {
        "id": "KJqp9AANOCtf"
      },
      "source": [
        "<img src=\"https://raw.githubusercontent.com/andre-marcos-perez/ebac-course-utils/main/media/logo/newebac_logo_black_half.png\" alt=\"ebac-logo\">\n",
        "\n",
        "---\n",
        "\n",
        "# **Módulo** | Análise de Dados: Coleta de Dados I\n",
        "Caderno de **Exercícios**<br>\n",
        "Professor [André Perez](https://www.linkedin.com/in/andremarcosperez/)\n",
        "\n",
        "---"
      ]
    },
    {
      "cell_type": "markdown",
      "metadata": {
        "id": "d9jDtUbDOE1-"
      },
      "source": [
        "# **Tópicos**\n",
        "\n",
        "<ol type=\"1\">\n",
        "  <li>Arquivos CSV;</li>\n",
        "  <li>Arquivos Texto;</li>\n",
        "  <li>Arquivos Excel.</li>\n",
        "</ol>"
      ]
    },
    {
      "cell_type": "markdown",
      "metadata": {
        "id": "SmoHgt-lwkpD"
      },
      "source": [
        "---"
      ]
    },
    {
      "cell_type": "markdown",
      "metadata": {
        "id": "GABI6OW8OfQ2"
      },
      "source": [
        "# **Exercícios**"
      ]
    },
    {
      "cell_type": "markdown",
      "metadata": {
        "id": "muD1vxozykSC"
      },
      "source": [
        "## 0\\. Preparando o ambiente"
      ]
    },
    {
      "cell_type": "markdown",
      "metadata": {
        "id": "ByX7SUjNKk2K"
      },
      "source": [
        "Vamos explorar dados de crédito presentes no arquivo `credito.xlsx` ([link](https://raw.githubusercontent.com/andre-marcos-perez/ebac-course-utils/develop/dataset/credito.xlsx)). Os dados estão no formato de **Excel** (XLSX) e contém informações sobre clientes de uma instituição financeira. Em especial, estamos interessados em explicar a segunda coluna, chamada de **default**, que indica se um cliente é adimplente (`default = 0`), ou inadimplente (`default = 1`), ou seja, queremos entender o porque um cliente deixa de honrar com suas dívidas baseado no comportamento de outros atributos, como salário, escolaridade e movimentação financeira. Uma descrição completa dos atributos está abaixo."
      ]
    },
    {
      "cell_type": "markdown",
      "metadata": {
        "id": "Z5Fd0NSVLnwE"
      },
      "source": [
        "\n",
        "\n",
        "| Coluna  | Descrição |\n",
        "| ------- | --------- |\n",
        "| id      | Número da conta |\n",
        "| default | Indica se o cliente é adimplente (0) ou inadimplente (1) |\n",
        "| idade   | --- |\n",
        "| sexo    | --- |\n",
        "| depedentes | --- |\n",
        "| escolaridade | --- |\n",
        "| estado_civil | --- |\n",
        "| salario_anual | Faixa do salario mensal multiplicado por 12 |\n",
        "| tipo_cartao | Categoria do cartao: blue, silver, gold e platinium |\n",
        "| meses_de_relacionamento | Quantidade de meses desde a abertura da conta |\n",
        "| qtd_produtos | Quantidade de produtos contratados |\n",
        "| iteracoes_12m | Quantidade de iteracoes com o cliente no último ano |\n",
        "| meses_inatico_12m | Quantidade de meses que o cliente ficou inativo no último ano |\n",
        "| limite_credito | Valor do limite do cartão de crédito |\n",
        "| valor_transacoes_12m | Soma total do valor das transações no cartão de crédito no último ano |\n",
        "| qtd_transacoes_12m | Quantidade total de transações no cartão de crédito no último ano |\n",
        "\n"
      ]
    },
    {
      "cell_type": "markdown",
      "metadata": {
        "id": "peEbZE2vcMaH"
      },
      "source": [
        "Faça o download do arquivo `credito.xlsx` com a célula de código abaixo."
      ]
    },
    {
      "cell_type": "code",
      "metadata": {
        "id": "hyG8xFuWc16L",
        "colab": {
          "base_uri": "https://localhost:8080/"
        },
        "outputId": "be3c946e-c83f-485c-d53f-97787cd15449"
      },
      "source": [
        "!wget --show-progress --continue -O ./credito.xlsx https://raw.githubusercontent.com/andre-marcos-perez/ebac-course-utils/main/dataset/credito.xlsx"
      ],
      "execution_count": null,
      "outputs": [
        {
          "output_type": "stream",
          "name": "stdout",
          "text": [
            "--2024-02-29 23:27:30--  https://raw.githubusercontent.com/andre-marcos-perez/ebac-course-utils/main/dataset/credito.xlsx\n",
            "Resolving raw.githubusercontent.com (raw.githubusercontent.com)... 185.199.110.133, 185.199.109.133, 185.199.111.133, ...\n",
            "Connecting to raw.githubusercontent.com (raw.githubusercontent.com)|185.199.110.133|:443... connected.\n",
            "HTTP request sent, awaiting response... 200 OK\n",
            "Length: 748185 (731K) [application/octet-stream]\n",
            "Saving to: ‘./credito.xlsx’\n",
            "\n",
            "\r./credito.xlsx        0%[                    ]       0  --.-KB/s               \r./credito.xlsx      100%[===================>] 730.65K  --.-KB/s    in 0.05s   \n",
            "\n",
            "2024-02-29 23:27:30 (15.3 MB/s) - ‘./credito.xlsx’ saved [748185/748185]\n",
            "\n"
          ]
        }
      ]
    },
    {
      "cell_type": "markdown",
      "metadata": {
        "id": "zMN1Q3jdwoJm"
      },
      "source": [
        "---"
      ]
    },
    {
      "cell_type": "markdown",
      "metadata": {
        "id": "GWgNoJN8DHyY"
      },
      "source": [
        "## 1\\. Excel para CSV"
      ]
    },
    {
      "cell_type": "markdown",
      "metadata": {
        "id": "YynK1vf2DHyj"
      },
      "source": [
        "Utilizando o pacote Python `openpyxl` visto em aula, extraia os seguintes as colunas `id`, `sexo` e `idade` para dos clientes inadimplentes (`default = 1`) e solteiros (`estado_civil = 'solteiro'`). Salves os dados extraídos no arquivo csv `credito.csv` separado por `;`. Exemplo do cabeçalho e das três primeiras linhas:\n",
        "\n",
        "```\n",
        "id;sexo;idade\n",
        "767712558;59;M\n",
        "713741358;46;M\n",
        "772390908;59;M\n",
        "```\n",
        "\n",
        "**Dica:** O arquivo csv `credito.csv` deve ter 669 linhas, contando com o cabeçalho.\n",
        "\n",
        "**Nota:** Escreva o código da sua solução abaixo em uma ou mais células, você não precisa enviar o arquivo csv gerado."
      ]
    },
    {
      "cell_type": "code",
      "metadata": {
        "id": "hVK8QyFvE-wk"
      },
      "source": [
        "# solução do exercício 1\n",
        "from openpyxl import load_workbook\n",
        "\n",
        "planilhas = load_workbook(filename='credito.xlsx')\n",
        "planilha = planilhas.active\n",
        "\n",
        "cabecalho = next(planilha.values)\n",
        "indice_default = cabecalho.index('default')\n",
        "indice_solteiro = cabecalho.index('estado_civil')\n",
        "\n",
        "ids = []\n",
        "sexos = []\n",
        "idades = []\n",
        "\n",
        "for cel in planilha[\"B\"]:\n",
        "    if (cel.value == 1):\n",
        "        linha = cel.row\n",
        "        aux = planilha[f'G{linha}']\n",
        "        verificador = aux.value\n",
        "        if(verificador == \"solteiro\"):\n",
        "            linha_filtro = cel.row\n",
        "            id = planilha[f'A{linha_filtro}']\n",
        "            id = id.value\n",
        "            ids.append(id)\n",
        "            sexo = planilha[f'C{linha_filtro}']\n",
        "            sexo = sexo.value\n",
        "            sexos.append(sexo)\n",
        "            idade = planilha[f'D{linha_filtro}']\n",
        "            idade = idade.value\n",
        "            idades.append(idade)\n",
        "\n",
        "import csv\n",
        "\n",
        "ids.insert(0, \"Id\")\n",
        "sexos.insert(0, \"Sexo\")\n",
        "idades.insert(0, \"Idades\")\n",
        "\n",
        "with open(file='./pergunta1.csv', mode='w',newline=\"\", encoding='utf8') as arquivo:\n",
        "    writer = csv.writer(arquivo)\n",
        "    for value in range(len(ids)):\n",
        "        writer.writerow([ids[value], sexos[value], idades[value]])\n"
      ],
      "execution_count": 12,
      "outputs": []
    },
    {
      "cell_type": "markdown",
      "metadata": {
        "id": "waxn4B2UDHyl"
      },
      "source": [
        "---"
      ]
    },
    {
      "cell_type": "markdown",
      "metadata": {
        "id": "finLQoyyGVmk"
      },
      "source": [
        "## 2\\. Excel para JSON"
      ]
    },
    {
      "cell_type": "markdown",
      "metadata": {
        "id": "99BrnqR4GVmy"
      },
      "source": [
        "Como preparação para o próximo módulo, vamos trabalhar com o JSON, um formato semi-estruturado, muito utilizado em transmissão de dados da web e equivalente a um **dicionário** Python."
      ]
    },
    {
      "cell_type": "markdown",
      "metadata": {
        "id": "AQqks_tohV8k"
      },
      "source": [
        "Utilizando o pacote Python `openpyxl` visto em aula, extraia os dados das colunas `escolaridade` e `tipo_cartao`, removendo duplicados. Com os dados, construa o dicionário Python `credito` com a seguinte estrutura:\n",
        "\n",
        "```python\n",
        "credito = {\n",
        "  'tipo_cartao': ['silver', 'blue', 'gold', 'platinum'],\n",
        "  'escolaridade': ['doutorado', 'mestrado', 'na', 'sem educacao formal', 'graduacao', 'ensino medio']\n",
        "}\n",
        "```\n",
        "\n",
        "Para finalizar, utilize o código abaixo para converter o dicionário `credito` no formato JSON:\n",
        "\n",
        "```python\n",
        "import json\n",
        "\n",
        "credito_json = json.dumps(credito, indent=4)\n",
        "print(credito_json)\n",
        "```\n",
        "\n",
        "**Dica:** Sua solução deve gerar o dicionário Python `credito` igual ao exemplo mas a ordem dos elementos pode variar tranquilamente.\n",
        "\n",
        "**Dica:** Uma excelente forma de remover elementos duplicados de uma lista é convertê-la para `set` e depois para `list` novamente.\n",
        "\n"
      ]
    },
    {
      "cell_type": "code",
      "metadata": {
        "id": "pCMQ5vBPjSXn"
      },
      "source": [
        "# solução do exercício 2\n",
        "from openpyxl import load_workbook\n",
        "\n",
        "planilhas = load_workbook(filename='credito.xlsx')\n",
        "planilha = planilhas.active\n",
        "\n",
        "cabecalho = next(planilha.values)\n",
        "indice_cartao = cabecalho.index('tipo_cartao')\n",
        "indice_escolaridade = cabecalho.index('escolaridade')\n",
        "\n",
        "cartoes = []\n",
        "escolaridades = []\n",
        "\n",
        "for cel in planilha[\"A\"]:\n",
        "    if (cel.value != 0):\n",
        "        linha = cel.row\n",
        "        cartao = planilha[f'I{linha}']\n",
        "        cartao = cartao.value\n",
        "        cartoes.append(cartao)\n",
        "        escolaridade = planilha[f'F{linha}']\n",
        "        escolaridade = escolaridade.value\n",
        "        escolaridades.append(escolaridade)\n",
        "\n",
        "cartoes = list(set(cartoes))\n",
        "escolaridades = list(set(escolaridades))\n",
        "\n",
        "del cartoes[1]\n",
        "del escolaridades[4]"
      ],
      "execution_count": 15,
      "outputs": []
    },
    {
      "cell_type": "code",
      "source": [
        "credito = {\n",
        "    \"tipo_cartao\":cartoes,\"escolaridade\":escolaridades\n",
        "}\n",
        "print(credito)\n",
        "\n",
        "\n",
        "import json\n",
        "\n",
        "credito_json = json.dumps(credito, indent=4)\n",
        "print(credito_json)"
      ],
      "metadata": {
        "colab": {
          "base_uri": "https://localhost:8080/"
        },
        "id": "MpeBHpBIk3Ff",
        "outputId": "e974eea0-3609-4c4a-eeaf-594fbef8a3eb"
      },
      "execution_count": 16,
      "outputs": [
        {
          "output_type": "stream",
          "name": "stdout",
          "text": [
            "{'tipo_cartao': ['platinum', 'blue', 'gold', 'silver'], 'escolaridade': ['escolaridade', 'mestrado', 'na', 'sem educacao formal', 'ensino medio', 'graduacao']}\n",
            "{\n",
            "    \"tipo_cartao\": [\n",
            "        \"platinum\",\n",
            "        \"blue\",\n",
            "        \"gold\",\n",
            "        \"silver\"\n",
            "    ],\n",
            "    \"escolaridade\": [\n",
            "        \"escolaridade\",\n",
            "        \"mestrado\",\n",
            "        \"na\",\n",
            "        \"sem educacao formal\",\n",
            "        \"ensino medio\",\n",
            "        \"graduacao\"\n",
            "    ]\n",
            "}\n"
          ]
        }
      ]
    },
    {
      "cell_type": "markdown",
      "metadata": {
        "id": "As3enQc2GVm1"
      },
      "source": [
        "---"
      ]
    },
    {
      "cell_type": "markdown",
      "metadata": {
        "id": "SS1PxxfHILHs"
      },
      "source": [
        "## 3\\. BÔNUS: Texto para CSV"
      ]
    },
    {
      "cell_type": "markdown",
      "metadata": {
        "id": "i3f-X7y23onm"
      },
      "source": [
        "No arquivo de texto `ebac.txt` você encontra o texto presente no rodapé da página de cursos da EBAC ([link](https://ebaconline.com.br/)).\n",
        "\n"
      ]
    },
    {
      "cell_type": "markdown",
      "metadata": {
        "id": "nKDF9EBH3onp"
      },
      "source": [
        "**Arquivo TXT:** ebac.txt"
      ]
    },
    {
      "cell_type": "code",
      "metadata": {
        "id": "Pyyj5VNnb16w",
        "colab": {
          "base_uri": "https://localhost:8080/"
        },
        "outputId": "249bb45f-a5ea-4aff-b33e-0b63a13e80bb"
      },
      "source": [
        "%%writefile ebac.txt\n",
        "MÍDIAS SOCIAIS\n",
        "Instagram, Facebook, Youtube, LinkedIn\n",
        "\n",
        "CURSOS\n",
        "Software, Design, Marketing, Audiovisual, Programação & Data, Games\n",
        "\n",
        "WEBINARS\n",
        "Próximos, Anteriores\n",
        "\n",
        "SOBRE\n",
        "Sobre nós, Centro de carreiras, Vagas\n",
        "\n",
        "CONTATO\n",
        "WhatsApp +55 (11) 4200-2991\n",
        "Telefone +55 (11) 3030-3200\n",
        "\n",
        "BLOG\n",
        "Design, Audiovisual, Marketing"
      ],
      "execution_count": 18,
      "outputs": [
        {
          "output_type": "stream",
          "name": "stdout",
          "text": [
            "Writing ebac.txt\n"
          ]
        }
      ]
    },
    {
      "cell_type": "markdown",
      "metadata": {
        "id": "R4hMJ6D2ILH3"
      },
      "source": [
        "Extraia os números de contato do arquivo texto `ebac.txt` e salve-os no arquivo csv `contato_ebac.csv` com o separador `;` no seguinte formato:\n",
        "\n",
        "```\n",
        "tipo;numero\n",
        "whatsapp;+551142002991\n",
        "telefone;+551130303200\n",
        "```\n",
        "\n",
        "**Nota:** Escreva o código da sua solução abaixo em uma ou mais células, você não precisa enviar o arquivo csv gerado."
      ]
    },
    {
      "cell_type": "code",
      "metadata": {
        "id": "ogZClDvTILH3",
        "colab": {
          "base_uri": "https://localhost:8080/"
        },
        "outputId": "777d0edd-0e1c-4163-9bbb-64e5940c8217"
      },
      "source": [
        "# solução do exercício 3 (bônus)\n",
        "with open(file='./ebac.txt', mode='r', encoding='utf8') as arquivo:\n",
        "  linhas = arquivo.readlines()\n",
        "linhas = filter(lambda linha: linha != '\\n', linhas)\n",
        "linhas = map(lambda linha: linha.strip().lower(), linhas)\n",
        "linhas = list(linhas)\n",
        "linhas_com_whats = filter(lambda linha: 'whatsapp' in linha, linhas)\n",
        "linhas_com_whats = list(linhas_com_whats)\n",
        "linhas_com_whats = str(linhas_com_whats).strip('[]').replace(\"(\",\"\").replace(\")\",\"\").replace(\"-\",\"\").replace(\"'\",\"\").replace(\" \",\"\")\n",
        "numero_whats = str(linhas_com_whats[9:21])\n",
        "\n",
        "\n",
        "linhas_com_telefone = filter(lambda linha: 'telefone' in linha, linhas)\n",
        "linhas_com_telefone = list(linhas_com_telefone)\n",
        "linhas_com_telefone = str(linhas_com_telefone).strip('[]').replace(\"(\",\"\").replace(\")\",\"\").replace(\"-\",\"\").replace(\"'\",\"\").replace(\" \",\"\")\n",
        "numero_telefone = str(linhas_com_telefone[9:21])\n",
        "print(numero_telefone)\n",
        "\n",
        "551130303200\n",
        "\n",
        "import csv\n",
        "\n",
        "with open('contato_ebac.csv', 'w', newline='') as arquivo_csv:\n",
        "    escrever_csv = csv.writer(arquivo_csv, delimiter=';')\n",
        "    escrever_csv.writerow(['tipo', 'numero'])\n",
        "    escrever_csv.writerow(['whatsapp', f'+{numero_whats}'])\n",
        "    escrever_csv.writerow(['telefone', f'+{numero_telefone}'])\n"
      ],
      "execution_count": 22,
      "outputs": [
        {
          "output_type": "stream",
          "name": "stdout",
          "text": [
            "551130303200\n"
          ]
        }
      ]
    },
    {
      "cell_type": "markdown",
      "metadata": {
        "id": "Fx--J2bOILH4"
      },
      "source": [
        "---"
      ]
    }
  ]
}