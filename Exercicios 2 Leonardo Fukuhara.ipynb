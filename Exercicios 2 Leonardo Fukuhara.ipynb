{
  "nbformat": 4,
  "nbformat_minor": 0,
  "metadata": {
    "colab": {
      "provenance": [],
      "toc_visible": true
    },
    "kernelspec": {
      "name": "python3",
      "display_name": "Python 3"
    }
  },
  "cells": [
    {
      "cell_type": "markdown",
      "metadata": {
        "id": "KJqp9AANOCtf"
      },
      "source": [
        "<img src=\"https://raw.githubusercontent.com/andre-marcos-perez/ebac-course-utils/main/media/logo/newebac_logo_black_half.png\" alt=\"ebac-logo\">\n",
        "\n",
        "---\n",
        "\n",
        "# **Módulo** | Python: Estruturas de Dados\n",
        "Caderno de **Exercícios**<br>\n",
        "Professor [André Perez](https://www.linkedin.com/in/andremarcosperez/)\n",
        "\n",
        "---"
      ]
    },
    {
      "cell_type": "markdown",
      "metadata": {
        "id": "d9jDtUbDOE1-"
      },
      "source": [
        "# **Tópicos**\n",
        "\n",
        "<ol type=\"1\">\n",
        "  <li>Listas;</li>\n",
        "  <li>Conjuntos;</li>\n",
        "  <li>Dicionários.</li>\n",
        "</ol>"
      ]
    },
    {
      "cell_type": "markdown",
      "metadata": {
        "id": "SmoHgt-lwkpD"
      },
      "source": [
        "---"
      ]
    },
    {
      "cell_type": "markdown",
      "metadata": {
        "id": "GABI6OW8OfQ2"
      },
      "source": [
        "# **Exercícios**"
      ]
    },
    {
      "cell_type": "markdown",
      "metadata": {
        "id": "muD1vxozykSC"
      },
      "source": [
        "## 1\\. Listas"
      ]
    },
    {
      "cell_type": "markdown",
      "metadata": {
        "id": "ahrFfCuBxJKs"
      },
      "source": [
        "Criei uma lista chamada `filmes` com o nome dos 10 primeiros filmes mais bem avaliados no site no [IMDB](https://www.imdb.com/chart/top/). Imprima o resultado."
      ]
    },
    {
      "cell_type": "code",
      "metadata": {
        "id": "OgL6Hv3bzOHI",
        "colab": {
          "base_uri": "https://localhost:8080/"
        },
        "outputId": "fbe3d531-e7bd-43f9-fc43-4bedd1813f9a"
      },
      "source": [
        "filmes = ['Um Sonho de Liberdade','Batman - O Cavaleiro das Trevas', 'O Poderoso Chefão', 'O Senhor dos Anéis: O Retorno do Rei','A Lista de Schindler', 'O Poderoso Chefão II','12 Homens e uma Sentença', 'Starfish', 'Renaissance: Um Filme de Beyoncé','12th Fail' ]\n",
        "print(filmes)\n",
        "print(type(filmes))"
      ],
      "execution_count": 8,
      "outputs": [
        {
          "output_type": "stream",
          "name": "stdout",
          "text": [
            "['Um Sonho de Liberdade', 'Batman - O Cavaleiro das Trevas', 'O Poderoso Chefão', 'O Senhor dos Anéis: O Retorno do Rei', 'A Lista de Schindler', 'O Poderoso Chefão II', '12 Homens e uma Sentença', 'Starfish', 'Renaissance: Um Filme de Beyoncé', '12th Fail']\n",
            "<class 'list'>\n"
          ]
        }
      ]
    },
    {
      "cell_type": "markdown",
      "metadata": {
        "id": "KI9zQRT2xa7m"
      },
      "source": [
        "Simule a movimentação do *ranking*. Utilize os métodos `insert` e `pop` para trocar a posição do primeiro e do segundo filme da lista. Imprima o resultado.\n",
        "\n"
      ]
    },
    {
      "cell_type": "code",
      "metadata": {
        "id": "zX3mA3_GzrXH",
        "colab": {
          "base_uri": "https://localhost:8080/"
        },
        "outputId": "2eef801c-2025-4e1c-8501-ef7a5ebcbec0"
      },
      "source": [
        "filmes.insert(2, 'Um Sonho de Liberdade')\n",
        "filmes.pop(0)\n",
        "print(filmes)"
      ],
      "execution_count": 9,
      "outputs": [
        {
          "output_type": "stream",
          "name": "stdout",
          "text": [
            "['Batman - O Cavaleiro das Trevas', 'Um Sonho de Liberdade', 'O Poderoso Chefão', 'O Senhor dos Anéis: O Retorno do Rei', 'A Lista de Schindler', 'O Poderoso Chefão II', '12 Homens e uma Sentença', 'Starfish', 'Renaissance: Um Filme de Beyoncé', '12th Fail']\n"
          ]
        }
      ]
    },
    {
      "cell_type": "markdown",
      "metadata": {
        "id": "zMN1Q3jdwoJm"
      },
      "source": [
        "---"
      ]
    },
    {
      "cell_type": "markdown",
      "metadata": {
        "id": "lxa5L6uF0ZJE"
      },
      "source": [
        "## 2\\. Conjuntos"
      ]
    },
    {
      "cell_type": "markdown",
      "metadata": {
        "id": "9JahS2Kj0d5u"
      },
      "source": [
        "Aconteceu um erro no seu *ranking*. Simule a duplicação dos três últimos filmes da lista. Imprima o resultado."
      ]
    },
    {
      "cell_type": "code",
      "metadata": {
        "id": "BnjnLBNC6PGe",
        "colab": {
          "base_uri": "https://localhost:8080/"
        },
        "outputId": "bcb0da19-3f5e-47ad-b06b-076b7dd28f16"
      },
      "source": [
        "filmes = ['Um Sonho de Liberdade','Batman - O Cavaleiro das Trevas', 'O Poderoso Chefão', 'O Senhor dos Anéis: O Retorno do Rei','A Lista de Schindler', 'O Poderoso Chefão II','12 Homens e uma Sentença', 'Starfish', 'Renaissance: Um Filme de Beyoncé','12th Fail', 'Starfish', 'Renaissance: Um Filme de Beyoncé','12th Fail']\n",
        "print(filmes)\n",
        "print(len(filmes))"
      ],
      "execution_count": 10,
      "outputs": [
        {
          "output_type": "stream",
          "name": "stdout",
          "text": [
            "['Um Sonho de Liberdade', 'Batman - O Cavaleiro das Trevas', 'O Poderoso Chefão', 'O Senhor dos Anéis: O Retorno do Rei', 'A Lista de Schindler', 'O Poderoso Chefão II', '12 Homens e uma Sentença', 'Starfish', 'Renaissance: Um Filme de Beyoncé', '12th Fail', 'Starfish', 'Renaissance: Um Filme de Beyoncé', '12th Fail']\n",
            "13\n"
          ]
        }
      ]
    },
    {
      "cell_type": "markdown",
      "metadata": {
        "id": "suxTfCJB6ZiX"
      },
      "source": [
        "Utiliza a conversão `set` e `list` para remover os valores duplicados. Imprima o resultado."
      ]
    },
    {
      "cell_type": "code",
      "metadata": {
        "id": "ZvUGN-0n6joM",
        "colab": {
          "base_uri": "https://localhost:8080/"
        },
        "outputId": "0f4abb0c-bddd-430a-ea6d-9d6f1e42b32a"
      },
      "source": [
        "filmes = list(set(filmes))\n",
        "print(filmes)\n",
        "print(len(filmes))"
      ],
      "execution_count": 11,
      "outputs": [
        {
          "output_type": "stream",
          "name": "stdout",
          "text": [
            "['Batman - O Cavaleiro das Trevas', 'O Poderoso Chefão II', 'O Poderoso Chefão', 'Um Sonho de Liberdade', '12 Homens e uma Sentença', '12th Fail', 'Starfish', 'A Lista de Schindler', 'Renaissance: Um Filme de Beyoncé', 'O Senhor dos Anéis: O Retorno do Rei']\n",
            "10\n"
          ]
        }
      ]
    },
    {
      "cell_type": "markdown",
      "metadata": {
        "id": "ShkK35eQ6pAM"
      },
      "source": [
        "---"
      ]
    },
    {
      "cell_type": "markdown",
      "metadata": {
        "id": "EL_FzmxL6rTv"
      },
      "source": [
        "## 3\\. Dicionários"
      ]
    },
    {
      "cell_type": "markdown",
      "metadata": {
        "id": "i8l0gFqRCpfT"
      },
      "source": [
        "Repita os exercícios da parte 1 (listas). Os elementos da lista `filmes` devem ser dicionários no seguinte formato: `{'nome': <nome-do-filme>, 'ano': <ano do filme>, 'sinopse': <sinopse do filme>}`."
      ]
    },
    {
      "cell_type": "code",
      "metadata": {
        "id": "tu6MSFwGDnHv",
        "colab": {
          "base_uri": "https://localhost:8080/"
        },
        "outputId": "94072e7b-a05d-47ed-d55f-43d1bd3b3f12"
      },
      "source": [
        "filmes = {\n",
        "      'Um Sonho de Liberdade': {\n",
        "        'nome': 'Um Sonho de Liberdade',\n",
        "        'ano': 1994,\n",
        "        'sinopse': 'Dois homens presos se reúnem ao longo de vários anos, encontrando consolo e eventual redenção através de atos de decência comum',},\n",
        "      'Batman - O Cavaleiro das Trevas' : {\n",
        "          'nome' : 'Batman - O Cavaleiro das Trevas',\n",
        "          'ano': 2008,\n",
        "          'sinopse': 'Agora com a ajuda do tenente Jim Gordon e do promotor público Harvey Dent, Batman tem tudo para banir o crime de Gotham City de uma vez por todas. Mas em breve, os três serão vítimas do Coringa, que pretende lançar Gotham em uma anarquia.',},\n",
        "      'O Poderoso Chefão':{\n",
        "          'nome': 'O Poderoso Chefão',\n",
        "          'ano': 1972,\n",
        "          'sinopse': 'O patriarca idoso de uma dinastia do crime organizado transfere o controle de seu império clandestino para seu filho relutante.',},\n",
        "      'O Senhor dos Anéis: O Retorno do Rei': {\n",
        "          'nome':'O Senhor dos Anéis: O Retorno do Rei',\n",
        "          'ano': 2003,\n",
        "          'sinopse':'Gandalf e Aragorn lideram o Mundo dos Homens contra o exército de Sauron para desviar o olhar de Frodo e Sam quando eles se aproximam á Montanha da Perdição com o Um Anel.',},\n",
        "      'A Lista de Schindler':{\n",
        "        'nome':'A Lista de Schindler',\n",
        "          'ano': 1993,\n",
        "          'sinopse': 'Na Polônia ocupada pelos alemães durante a Segunda Guerra Mundial, o industrial Oskar Schindler começa a ser preocupar com seus trabalhadores judeus depois de testemunhar sua perseguição pelos nazistas.',},\n",
        "      'O Poderoso Chefão II':{\n",
        "        'nome':'O Poderoso Chefão II',\n",
        "          'ano': 1974,\n",
        "          'sinopse':'Em 1950, Michael Corleone, agora à frente da família, tenta expandir o negócio do crime a Las Vegas, Los Angeles e Cuba. Paralelamente, é revelada a história de Vito Corleone, e de como saiu da Sicília e chegou a Nova Iorque.',},\n",
        "      '12 Homens e uma Sentença':{\n",
        "          'nome':'12 Homens e uma Sentença',\n",
        "          'ano':1957,\n",
        "          'sinopse':'O julgamento de um assassinato em Nova Iorque é frustrado por um único membro, cujo ceticismo força o júri a considerar cuidadosamente as evidências antes de dar o veredito.',},\n",
        "      'Starfish':{\n",
        "          'nome':'Starfish',\n",
        "          'ano':2023,\n",
        "          'sinopse':'Bela jornada pelas profundezas do mundo subaquático enquanto testemunhamos uma história emocionante de dor e cura se desenrolar diante de nossos olhos.',},\n",
        "      'Renaissance: Um Filme de Beyoncé':{\n",
        "          'nome':'Renaissance: Um Filme de Beyoncé',\n",
        "          'ano':2023,\n",
        "          'sinopse':'Beyoncé em sua performance na turnê mundial RENAISSANCE, que quebrou recordes, e a mente criativa por trás dela.',},\n",
        "      '12th Fail':{\n",
        "          'nome':'12th Fail',\n",
        "          'ano':2023,\n",
        "          'sinopse':'A história da vida real do oficial do IPS Manoj Kumar Sharma e do oficial do IRS Shraddha Joshi.',}\n",
        "       }\n",
        "filmes['12th Fail']['ano']"
      ],
      "execution_count": 7,
      "outputs": [
        {
          "output_type": "execute_result",
          "data": {
            "text/plain": [
              "2023"
            ]
          },
          "metadata": {},
          "execution_count": 7
        }
      ]
    }
  ]
}