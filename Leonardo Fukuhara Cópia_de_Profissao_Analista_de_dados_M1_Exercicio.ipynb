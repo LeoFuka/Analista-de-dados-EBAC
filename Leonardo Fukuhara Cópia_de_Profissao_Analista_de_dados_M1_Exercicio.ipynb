{
  "nbformat": 4,
  "nbformat_minor": 0,
  "metadata": {
    "colab": {
      "provenance": [],
      "toc_visible": true
    },
    "kernelspec": {
      "name": "python3",
      "display_name": "Python 3"
    }
  },
  "cells": [
    {
      "cell_type": "markdown",
      "metadata": {
        "id": "KJqp9AANOCtf"
      },
      "source": [
        "<img src=\"https://raw.githubusercontent.com/andre-marcos-perez/ebac-course-utils/main/media/logo/newebac_logo_black_half.png\" alt=\"ebac-logo\">\n",
        "\n",
        "---\n",
        "\n",
        "# **Módulo** | Python: Variáveis & Tipos de Dados\n",
        "Caderno de **Exercícios**<br>\n",
        "Professor [André Perez](https://www.linkedin.com/in/andremarcosperez/)\n",
        "\n",
        "---"
      ]
    },
    {
      "cell_type": "markdown",
      "metadata": {
        "id": "d9jDtUbDOE1-"
      },
      "source": [
        "# **Tópicos**\n",
        "\n",
        "<ol type=\"1\">\n",
        "  <li>Introdução ao Google Colab;</li>\n",
        "  <li>Variáveis;</li>\n",
        "  <li>Números;</li>\n",
        "  <li><i>Strings;</i></li>\n",
        "  <li>Boleanos.</li>\n",
        "</ol>"
      ]
    },
    {
      "cell_type": "markdown",
      "metadata": {
        "id": "SmoHgt-lwkpD"
      },
      "source": [
        "---"
      ]
    },
    {
      "cell_type": "markdown",
      "metadata": {
        "id": "GABI6OW8OfQ2"
      },
      "source": [
        "# **Exercícios**"
      ]
    },
    {
      "cell_type": "markdown",
      "metadata": {
        "id": "muD1vxozykSC"
      },
      "source": [
        "## 1\\. Google Colab"
      ]
    },
    {
      "cell_type": "markdown",
      "metadata": {
        "id": "ahrFfCuBxJKs"
      },
      "source": [
        "Crie uma célula de código que escreva o texto \"Olá mundo!\", utilize o comando `print`."
      ]
    },
    {
      "cell_type": "code",
      "source": [
        "print('Olá mundo!')"
      ],
      "metadata": {
        "colab": {
          "base_uri": "https://localhost:8080/"
        },
        "id": "AqBt99XhFmm4",
        "outputId": "c18078b6-09ff-4057-9b22-7b5595817023"
      },
      "execution_count": null,
      "outputs": [
        {
          "output_type": "stream",
          "name": "stdout",
          "text": [
            "Olá mundo!\n"
          ]
        }
      ]
    },
    {
      "cell_type": "markdown",
      "metadata": {
        "id": "KI9zQRT2xa7m"
      },
      "source": [
        "Crie uma célua de texto e adicione uma imagem."
      ]
    },
    {
      "cell_type": "markdown",
      "source": [
        "![Joia.jpeg](data:image/jpeg;base64,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)"
      ],
      "metadata": {
        "id": "FvZM5JQJFuvn"
      }
    },
    {
      "cell_type": "markdown",
      "metadata": {
        "id": "zMN1Q3jdwoJm"
      },
      "source": [
        "---"
      ]
    },
    {
      "cell_type": "markdown",
      "metadata": {
        "id": "tFYOPLS3xiwe"
      },
      "source": [
        "## 2\\. Números"
      ]
    },
    {
      "cell_type": "markdown",
      "metadata": {
        "id": "O2G9gt7tx2c-"
      },
      "source": [
        "Preencha as células de código para preencher os valores de (A), (B) e (C) na tabela de ticket médio abaixo:\n",
        "\n",
        "<br>\n",
        "\n",
        "| Dia   | Valor Total Vendas | Qtd Total Vendas | Ticket Medio |\n",
        "|-------|--------------------|------------------|--------------|\n",
        "| 19/01 | (A)                | 3                | 320.52       |\n",
        "| 20/01 | 834.47             | (B)              | 119.21       |\n",
        "| 23/01 | 15378.12           | 5                | (C)          |"
      ]
    },
    {
      "cell_type": "code",
      "metadata": {
        "id": "nsrKH9EizNRD",
        "colab": {
          "base_uri": "https://localhost:8080/"
        },
        "outputId": "cbe5d89f-6243-476d-b33e-df6d244f2424"
      },
      "source": [
        "# (A)\n",
        "svv_19 = A\n",
        "sqv_19 = 3\n",
        "tkm_19 = 320.52\n",
        "\n",
        "svv_19 = sqv_19 * tkm_19\n",
        "\n",
        "print(svv_19)\n",
        "\n"
      ],
      "execution_count": null,
      "outputs": [
        {
          "output_type": "stream",
          "name": "stdout",
          "text": [
            "961.56\n"
          ]
        }
      ]
    },
    {
      "cell_type": "code",
      "metadata": {
        "id": "QQ1GBGHJzMmi",
        "colab": {
          "base_uri": "https://localhost:8080/"
        },
        "outputId": "09b510bc-8c74-467b-abfe-d4d6b51c6bdf"
      },
      "source": [
        "# (B)\n",
        "svv_20 = 834.47\n",
        "sqv_20 = B\n",
        "tkm_20 = 119.21\n",
        "\n",
        "sqv_20 = svv_20 / tkm_20\n",
        "\n",
        "print(sqv_20)\n"
      ],
      "execution_count": null,
      "outputs": [
        {
          "output_type": "stream",
          "name": "stdout",
          "text": [
            "7.000000000000001\n"
          ]
        }
      ]
    },
    {
      "cell_type": "code",
      "metadata": {
        "id": "W-li0nSMzKNa",
        "colab": {
          "base_uri": "https://localhost:8080/"
        },
        "outputId": "82584e68-5abb-44b8-bb59-dc91452320f2"
      },
      "source": [
        "# (C)\n",
        "svv_21 = 15378.12\n",
        "sqv_21 = 5\n",
        "tkm_21 = C\n",
        "\n",
        "tkm_21 = svv_21 / sqv_21\n",
        "\n",
        "print(tkm_21)\n"
      ],
      "execution_count": null,
      "outputs": [
        {
          "output_type": "stream",
          "name": "stdout",
          "text": [
            "3075.6240000000003\n"
          ]
        }
      ]
    },
    {
      "cell_type": "markdown",
      "metadata": {
        "id": "3eoP-Vj9yzh8"
      },
      "source": [
        "---"
      ]
    },
    {
      "cell_type": "markdown",
      "metadata": {
        "id": "yUJ6kdony6Pr"
      },
      "source": [
        "## 3\\. Strings"
      ]
    },
    {
      "cell_type": "markdown",
      "metadata": {
        "id": "KDuZpg-5zCvO"
      },
      "source": [
        "Aplique três métodos distintos na *string* abaixo, você pode conferir alguns métodos neste [link](https://www.w3schools.com/python/python_ref_string.asp):"
      ]
    },
    {
      "cell_type": "code",
      "metadata": {
        "id": "k9zbyf7BzjKj"
      },
      "source": [
        "cancao = 'Roda mundo, roda gigante, roda moinho, roda pião.'"
      ],
      "execution_count": null,
      "outputs": []
    },
    {
      "cell_type": "code",
      "source": [
        "cancao.swapcase()"
      ],
      "metadata": {
        "colab": {
          "base_uri": "https://localhost:8080/",
          "height": 36
        },
        "id": "Q3BeW9kFThfx",
        "outputId": "c1f7b1da-1838-4948-9b95-8c6e6149d455"
      },
      "execution_count": null,
      "outputs": [
        {
          "output_type": "execute_result",
          "data": {
            "text/plain": [
              "'rODA MUNDO, RODA GIGANTE, RODA MOINHO, RODA PIÃO.'"
            ],
            "application/vnd.google.colaboratory.intrinsic+json": {
              "type": "string"
            }
          },
          "metadata": {},
          "execution_count": 59
        }
      ]
    },
    {
      "cell_type": "code",
      "source": [
        "cancao.isspace()"
      ],
      "metadata": {
        "colab": {
          "base_uri": "https://localhost:8080/"
        },
        "id": "jicwBZnyTmwI",
        "outputId": "e8ad2fdd-115f-4acd-e02a-fb0a2bb2c7db"
      },
      "execution_count": null,
      "outputs": [
        {
          "output_type": "execute_result",
          "data": {
            "text/plain": [
              "False"
            ]
          },
          "metadata": {},
          "execution_count": 60
        }
      ]
    },
    {
      "cell_type": "code",
      "source": [
        "cancao.count('roda')"
      ],
      "metadata": {
        "colab": {
          "base_uri": "https://localhost:8080/"
        },
        "id": "5KLrkSs0TrAy",
        "outputId": "2cc0e8b5-ad75-4089-bbc7-4754da578d38"
      },
      "execution_count": null,
      "outputs": [
        {
          "output_type": "execute_result",
          "data": {
            "text/plain": [
              "3"
            ]
          },
          "metadata": {},
          "execution_count": 63
        }
      ]
    },
    {
      "cell_type": "markdown",
      "metadata": {
        "id": "guZMHXVq0FnC"
      },
      "source": [
        "Extraia da string abaixo o valor da taxa **selic** na variável `selic` e o valor do **ano** na variavel `ano`. Imprima os valores na tela."
      ]
    },
    {
      "cell_type": "code",
      "metadata": {
        "id": "cbx_P4IQ0agK"
      },
      "source": [
        "noticia = 'Selic vai a 2,75% e supera expectativas; é a primeira alta em 6 anos.'"
      ],
      "execution_count": null,
      "outputs": []
    },
    {
      "cell_type": "code",
      "source": [
        "posi_chat_divi = noticia.find(';')\n",
        "print(posi_chat_divi)"
      ],
      "metadata": {
        "colab": {
          "base_uri": "https://localhost:8080/"
        },
        "id": "P2AcW9XcUBqw",
        "outputId": "ab9b230b-f871-4d2a-c0cd-bb7dd4b9b3ad"
      },
      "execution_count": null,
      "outputs": [
        {
          "output_type": "stream",
          "name": "stdout",
          "text": [
            "39\n"
          ]
        }
      ]
    },
    {
      "cell_type": "code",
      "source": [
        "taxa_selic = noticia[12:18]\n",
        "print(taxa_selic)"
      ],
      "metadata": {
        "colab": {
          "base_uri": "https://localhost:8080/"
        },
        "id": "Sy5Sj7HTXwNo",
        "outputId": "60aefda3-17f6-488d-fe9a-d6ee393b42b8"
      },
      "execution_count": null,
      "outputs": [
        {
          "output_type": "stream",
          "name": "stdout",
          "text": [
            "2,75% \n"
          ]
        }
      ]
    },
    {
      "cell_type": "code",
      "source": [
        "ano = noticia[61:63]\n",
        "print(ano)"
      ],
      "metadata": {
        "colab": {
          "base_uri": "https://localhost:8080/"
        },
        "id": "ic-1lNa1Yzgw",
        "outputId": "46417491-bbec-4464-f772-a1e7ce02bcc8"
      },
      "execution_count": null,
      "outputs": [
        {
          "output_type": "stream",
          "name": "stdout",
          "text": [
            " 6\n"
          ]
        }
      ]
    },
    {
      "cell_type": "markdown",
      "metadata": {
        "id": "wWzbu-OC0z3L"
      },
      "source": [
        "---"
      ]
    },
    {
      "cell_type": "markdown",
      "metadata": {
        "id": "no8w_Ati01xP"
      },
      "source": [
        "## 4\\. Booleanos"
      ]
    },
    {
      "cell_type": "markdown",
      "metadata": {
        "id": "D_0tC3SC099N"
      },
      "source": [
        "Utilize a tabela da verdade para responder: qual o valor da variável x?"
      ]
    },
    {
      "cell_type": "code",
      "metadata": {
        "id": "XwIEbxf91SpU"
      },
      "source": [
        "a = False\n",
        "b = True\n",
        "\n",
        "x = not a & b"
      ],
      "execution_count": null,
      "outputs": []
    },
    {
      "cell_type": "code",
      "source": [
        "print(bool(x))"
      ],
      "metadata": {
        "colab": {
          "base_uri": "https://localhost:8080/"
        },
        "id": "-l6HAwrzZyvZ",
        "outputId": "c90897d1-4f4a-41eb-e85d-49eff6f20123"
      },
      "execution_count": null,
      "outputs": [
        {
          "output_type": "stream",
          "name": "stdout",
          "text": [
            "True\n"
          ]
        }
      ]
    }
  ]
}